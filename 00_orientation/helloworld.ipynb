{
 "cells": [
  {
   "cell_type": "code",
   "execution_count": 1,
   "id": "cb4f47c8",
   "metadata": {},
   "outputs": [
    {
     "name": "stdout",
     "output_type": "stream",
     "text": [
      "Hello! World!\n",
      "こんにちは! 世界!\n"
     ]
    }
   ],
   "source": [
    "print(\"Hello! World!\")\n",
    "print(\"こんにちは! 世界!\")"
   ]
  },
  {
   "cell_type": "code",
   "execution_count": 2,
   "id": "674c0d5e",
   "metadata": {},
   "outputs": [
    {
     "name": "stdout",
     "output_type": "stream",
     "text": [
      "開発を行います!\n"
     ]
    }
   ],
   "source": [
    "print(\"開発を行います!\")"
   ]
  },
  {
   "cell_type": "code",
   "execution_count": null,
   "id": "40e4c48d",
   "metadata": {},
   "outputs": [],
   "source": []
  }
 ],
 "metadata": {
  "kernelspec": {
   "display_name": ".venv",
   "language": "python",
   "name": "python3"
  },
  "language_info": {
   "codemirror_mode": {
    "name": "ipython",
    "version": 3
   },
   "file_extension": ".py",
   "mimetype": "text/x-python",
   "name": "python",
   "nbconvert_exporter": "python",
   "pygments_lexer": "ipython3",
   "version": "3.12.7"
  }
 },
 "nbformat": 4,
 "nbformat_minor": 5
}
