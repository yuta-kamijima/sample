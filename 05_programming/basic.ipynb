{
 "cells": [
  {
   "cell_type": "code",
   "execution_count": 1,
   "id": "f93053dd",
   "metadata": {},
   "outputs": [
    {
     "name": "stdout",
     "output_type": "stream",
     "text": [
      "3教科の平均点は 83.33333333333333 点です\n"
     ]
    }
   ],
   "source": [
    "#各教科の点数を変数として定義\n",
    "japanese = 85\n",
    "math = 90\n",
    "english = 75\n",
    "\n",
    "#平均点を計算\n",
    "avarage = (japanese + math + english) / 3\n",
    "\n",
    "#結果を表示\n",
    "print(\"3教科の平均点は\" , avarage , \"点です\")"
   ]
  },
  {
   "cell_type": "code",
   "execution_count": 2,
   "id": "dc4a6207",
   "metadata": {},
   "outputs": [
    {
     "name": "stdout",
     "output_type": "stream",
     "text": [
      "5\n"
     ]
    }
   ],
   "source": [
    "a = 10\n",
    "b = -5\n",
    "c = 0\n",
    "print(a+b)"
   ]
  },
  {
   "cell_type": "code",
   "execution_count": 3,
   "id": "3109eae9",
   "metadata": {},
   "outputs": [
    {
     "name": "stdout",
     "output_type": "stream",
     "text": [
      "3.3333333333333335\n"
     ]
    }
   ],
   "source": [
    "print(10/3)"
   ]
  },
  {
   "cell_type": "code",
   "execution_count": 4,
   "id": "119f7d6e",
   "metadata": {},
   "outputs": [
    {
     "name": "stdout",
     "output_type": "stream",
     "text": [
      "3\n"
     ]
    }
   ],
   "source": [
    "print(10//3)"
   ]
  },
  {
   "cell_type": "code",
   "execution_count": null,
   "id": "4ea1c7d0",
   "metadata": {},
   "outputs": [
    {
     "name": "stdout",
     "output_type": "stream",
     "text": [
      "0.30000000000000004\n"
     ]
    }
   ],
   "source": [
    "y = 0.1+0.2 #浮動小数点誤差\n",
    "print(y)"
   ]
  },
  {
   "cell_type": "code",
   "execution_count": null,
   "id": "693e96e9",
   "metadata": {},
   "outputs": [],
   "source": [
    "#2進法で近似してるから浮動小数点誤差が発生するらしい？"
   ]
  },
  {
   "cell_type": "code",
   "execution_count": 7,
   "id": "05a62d3e",
   "metadata": {},
   "outputs": [
    {
     "name": "stdout",
     "output_type": "stream",
     "text": [
      "(1+3.5j)\n"
     ]
    }
   ],
   "source": [
    "c = 2+3j\n",
    "d = -1+0.5j\n",
    "print(c+d)"
   ]
  },
  {
   "cell_type": "code",
   "execution_count": 8,
   "id": "8ee9deb7",
   "metadata": {},
   "outputs": [
    {
     "name": "stdout",
     "output_type": "stream",
     "text": [
      "Hello,World\n"
     ]
    }
   ],
   "source": [
    "text = \"Hello,World\"\n",
    "print(text)"
   ]
  },
  {
   "cell_type": "code",
   "execution_count": 9,
   "id": "f71ba60c",
   "metadata": {},
   "outputs": [
    {
     "name": "stdout",
     "output_type": "stream",
     "text": [
      "PYTHON\n"
     ]
    }
   ],
   "source": [
    "text = \"Python\"\n",
    "print(text.upper())"
   ]
  },
  {
   "cell_type": "code",
   "execution_count": 10,
   "id": "3a6d9a0f",
   "metadata": {},
   "outputs": [
    {
     "name": "stdout",
     "output_type": "stream",
     "text": [
      "python\n"
     ]
    }
   ],
   "source": [
    "print(text.lower())"
   ]
  },
  {
   "cell_type": "code",
   "execution_count": 11,
   "id": "aeec8a6e",
   "metadata": {},
   "outputs": [
    {
     "name": "stdout",
     "output_type": "stream",
     "text": [
      "True\n"
     ]
    }
   ],
   "source": [
    "a=5\n",
    "b=10\n",
    "print(a<b)"
   ]
  },
  {
   "cell_type": "code",
   "execution_count": 13,
   "id": "e9dbef9e",
   "metadata": {},
   "outputs": [
    {
     "name": "stdout",
     "output_type": "stream",
     "text": [
      "False\n"
     ]
    }
   ],
   "source": [
    "print(a>b)"
   ]
  },
  {
   "cell_type": "code",
   "execution_count": 14,
   "id": "8ecb33e6",
   "metadata": {},
   "outputs": [
    {
     "name": "stdout",
     "output_type": "stream",
     "text": [
      "False\n"
     ]
    }
   ],
   "source": [
    "print(a==b)"
   ]
  },
  {
   "cell_type": "code",
   "execution_count": 18,
   "id": "3c1f450f",
   "metadata": {},
   "outputs": [
    {
     "name": "stdout",
     "output_type": "stream",
     "text": [
      "None\n"
     ]
    }
   ],
   "source": [
    "x = None\n",
    "print(x)"
   ]
  },
  {
   "cell_type": "code",
   "execution_count": 19,
   "id": "dec96c03",
   "metadata": {},
   "outputs": [
    {
     "name": "stdout",
     "output_type": "stream",
     "text": [
      "加算: 13\n",
      "除算: 3.3333333333333335\n",
      "累乗: 1000\n"
     ]
    }
   ],
   "source": [
    "a=10\n",
    "b=3\n",
    "print(\"加算:\",a+b)\n",
    "print(\"除算:\",a/b)\n",
    "print(\"累乗:\",a**b)"
   ]
  },
  {
   "cell_type": "code",
   "execution_count": null,
   "id": "634ec9d8",
   "metadata": {},
   "outputs": [
    {
     "ename": "ZeroDivisionError",
     "evalue": "division by zero",
     "output_type": "error",
     "traceback": [
      "\u001b[31m---------------------------------------------------------------------------\u001b[39m",
      "\u001b[31mZeroDivisionError\u001b[39m                         Traceback (most recent call last)",
      "\u001b[36mCell\u001b[39m\u001b[36m \u001b[39m\u001b[32mIn[20]\u001b[39m\u001b[32m, line 1\u001b[39m\n\u001b[32m----> \u001b[39m\u001b[32m1\u001b[39m \u001b[38;5;28mprint\u001b[39m(\u001b[32;43m3\u001b[39;49m\u001b[43m/\u001b[49m\u001b[32;43m0\u001b[39;49m)\n",
      "\u001b[31mZeroDivisionError\u001b[39m: division by zero"
     ]
    }
   ],
   "source": [
    "print(3/0) #0除算"
   ]
  },
  {
   "cell_type": "code",
   "execution_count": 21,
   "id": "7630c2bc",
   "metadata": {},
   "outputs": [
    {
     "name": "stdout",
     "output_type": "stream",
     "text": [
      "x+=5: 15\n"
     ]
    }
   ],
   "source": [
    "x=10\n",
    "x+=5\n",
    "print(\"x+=5:\",x)"
   ]
  },
  {
   "cell_type": "code",
   "execution_count": 22,
   "id": "d4c8ed35",
   "metadata": {},
   "outputs": [
    {
     "name": "stdout",
     "output_type": "stream",
     "text": [
      "x *= 2: 30\n"
     ]
    }
   ],
   "source": [
    "x*=2\n",
    "print(\"x *= 2:\",x)"
   ]
  },
  {
   "cell_type": "code",
   "execution_count": 23,
   "id": "b376977f",
   "metadata": {},
   "outputs": [
    {
     "name": "stdout",
     "output_type": "stream",
     "text": [
      "a>b: True\n",
      "a==b: False\n"
     ]
    }
   ],
   "source": [
    "a=10\n",
    "b=5\n",
    "print(\"a>b:\",a>b)\n",
    "print(\"a==b:\",a==b)"
   ]
  },
  {
   "cell_type": "code",
   "execution_count": 24,
   "id": "f8029e19",
   "metadata": {},
   "outputs": [
    {
     "name": "stdout",
     "output_type": "stream",
     "text": [
      "100<x<200: True\n"
     ]
    }
   ],
   "source": [
    "x=150\n",
    "print(\"100<x<200:\",100<x<200)"
   ]
  },
  {
   "cell_type": "code",
   "execution_count": 25,
   "id": "a180e623",
   "metadata": {},
   "outputs": [
    {
     "name": "stdout",
     "output_type": "stream",
     "text": [
      "10<x and x<20: True\n",
      "not(x==15): False\n"
     ]
    }
   ],
   "source": [
    "x=15\n",
    "print(\"10<x and x<20:\",10<x and x<20)\n",
    "print(\"not(x==15):\",not (x==15))"
   ]
  },
  {
   "cell_type": "code",
   "execution_count": 26,
   "id": "adfe1c79",
   "metadata": {},
   "outputs": [
    {
     "name": "stdout",
     "output_type": "stream",
     "text": [
      "a&b: 0b1000\n",
      "a<<1: 0b11000\n"
     ]
    }
   ],
   "source": [
    "a=0b1100\n",
    "b=0b1010\n",
    "print(\"a&b:\",bin(a&b))\n",
    "print(\"a<<1:\",bin(a<<1))"
   ]
  },
  {
   "cell_type": "code",
   "execution_count": null,
   "id": "f0884083",
   "metadata": {},
   "outputs": [
    {
     "name": "stdout",
     "output_type": "stream",
     "text": [
      "合格です\n",
      "処理を終了します\n"
     ]
    }
   ],
   "source": [
    "score = int(input(\"点数を入力してください\"))\n",
    "if score >= 60:\n",
    "    print(\"合格です\") #インデントをそろえる\n",
    "print(\"処理を終了します\")    "
   ]
  },
  {
   "cell_type": "code",
   "execution_count": 32,
   "id": "f23c7b2d",
   "metadata": {},
   "outputs": [
    {
     "name": "stdout",
     "output_type": "stream",
     "text": [
      "合格です\n",
      "おめでとうございます\n",
      "処理を終了します\n"
     ]
    }
   ],
   "source": [
    "score = int(input(\"点数を入力してください:\"))\n",
    "if score >= 60:\n",
    "    print(\"合格です\")\n",
    "    print(\"おめでとうございます\")\n",
    "else:\n",
    "    print(\"不合格です\")\n",
    "    print(\"頑張りましょう\")\n",
    "print(\"処理を終了します\")"
   ]
  },
  {
   "cell_type": "code",
   "execution_count": 37,
   "id": "4059d3e7",
   "metadata": {},
   "outputs": [
    {
     "name": "stdout",
     "output_type": "stream",
     "text": [
      "優秀です\n",
      "すごい\n",
      "処理を終了します\n"
     ]
    }
   ],
   "source": [
    "score = int(input(\"点数を入力してください:\"))\n",
    "if score >= 90:\n",
    "    print(\"優秀です\")\n",
    "    print(\"すごい\")\n",
    "elif score >= 60:\n",
    "    print(\"合格です\")\n",
    "    print(\"おめ\")\n",
    "else:   \n",
    "    print(\"不合格です\")\n",
    "    print(\"あほ\")\n",
    "print(\"処理を終了します\")"
   ]
  },
  {
   "cell_type": "code",
   "execution_count": null,
   "id": "089187d0",
   "metadata": {},
   "outputs": [
    {
     "name": "stdout",
     "output_type": "stream",
     "text": [
      "0\n",
      "1\n",
      "2\n",
      "3\n",
      "4\n",
      "5\n",
      "6\n",
      "7\n",
      "8\n",
      "9\n",
      "10\n"
     ]
    }
   ],
   "source": [
    "for i in range(11): #0から10まで\n",
    "    print(i)"
   ]
  },
  {
   "cell_type": "code",
   "execution_count": null,
   "id": "2d51d74b",
   "metadata": {},
   "outputs": [
    {
     "name": "stdout",
     "output_type": "stream",
     "text": [
      "2\n",
      "4\n",
      "6\n",
      "8\n",
      "10\n",
      "12\n",
      "14\n",
      "16\n",
      "18\n",
      "20\n"
     ]
    }
   ],
   "source": [
    "for i in range(2,21,2): #2から20まで\n",
    "    print(i)"
   ]
  },
  {
   "cell_type": "code",
   "execution_count": 40,
   "id": "801fb24d",
   "metadata": {},
   "outputs": [
    {
     "name": "stdout",
     "output_type": "stream",
     "text": [
      "1\n",
      "2\n",
      "3\n",
      "4\n",
      "5\n",
      "6\n",
      "7\n",
      "8\n",
      "9\n",
      "10\n",
      "処理を終了します\n"
     ]
    }
   ],
   "source": [
    "i=0\n",
    "while i<10:\n",
    "    i += 1\n",
    "    print(i)\n",
    "print(\"処理を終了します\")"
   ]
  },
  {
   "cell_type": "code",
   "execution_count": 41,
   "id": "ad8a5699",
   "metadata": {},
   "outputs": [
    {
     "name": "stdout",
     "output_type": "stream",
     "text": [
      "1\n",
      "2\n",
      "3\n",
      "4\n",
      "5\n",
      "6\n",
      "7\n",
      "8\n",
      "9\n",
      "10\n",
      "処理を終了します\n"
     ]
    }
   ],
   "source": [
    "i = 0\n",
    "while True:\n",
    "    i += 1\n",
    "    if i>10:\n",
    "        break\n",
    "    print(i)\n",
    "print(\"処理を終了します\")"
   ]
  },
  {
   "cell_type": "code",
   "execution_count": null,
   "id": "7c22d4e6",
   "metadata": {},
   "outputs": [
    {
     "name": "stdout",
     "output_type": "stream",
     "text": [
      "2\n",
      "4\n",
      "6\n",
      "8\n",
      "10\n",
      "処理を終了します\n"
     ]
    }
   ],
   "source": [
    "i=0\n",
    "while True:\n",
    "    i += 1\n",
    "    if i > 10:\n",
    "        break\n",
    "    if i % 2 == 1:\n",
    "        continue    #奇数ならprintせずi+=1に進む\n",
    "    print(i)\n",
    "print(\"処理を終了します\")"
   ]
  },
  {
   "cell_type": "code",
   "execution_count": 43,
   "id": "4e579e7c",
   "metadata": {},
   "outputs": [
    {
     "ename": "ValueError",
     "evalue": "invalid literal for int() with base 10: 'h'",
     "output_type": "error",
     "traceback": [
      "\u001b[31m---------------------------------------------------------------------------\u001b[39m",
      "\u001b[31mValueError\u001b[39m                                Traceback (most recent call last)",
      "\u001b[36mCell\u001b[39m\u001b[36m \u001b[39m\u001b[32mIn[43]\u001b[39m\u001b[32m, line 1\u001b[39m\n\u001b[32m----> \u001b[39m\u001b[32m1\u001b[39m score = \u001b[38;5;28;43mint\u001b[39;49m\u001b[43m(\u001b[49m\u001b[38;5;28;43minput\u001b[39;49m\u001b[43m(\u001b[49m\u001b[33;43m\"\u001b[39;49m\u001b[33;43m点数を入力してください:\u001b[39;49m\u001b[33;43m\"\u001b[39;49m\u001b[43m)\u001b[49m\u001b[43m)\u001b[49m\n",
      "\u001b[31mValueError\u001b[39m: invalid literal for int() with base 10: 'h'"
     ]
    }
   ],
   "source": [
    "score = int(input(\"点数を入力してください:\"))"
   ]
  },
  {
   "cell_type": "code",
   "execution_count": 49,
   "id": "caed86fc",
   "metadata": {},
   "outputs": [
    {
     "name": "stdout",
     "output_type": "stream",
     "text": [
      "エラー: 整数を入力してください\n"
     ]
    }
   ],
   "source": [
    "try:     #エラーが起こる可能性のある処理\n",
    "    num = int(input(\"整数を入力してください:\"))\n",
    "    result = 100/num\n",
    "    print(f\"100を{num}で割った結果は{result}です\")\n",
    "except ZeroDivisionError:  #0で割った場合のエラー処理\n",
    "    print(\"エラー: 0で割ることはできません\")\n",
    "except ValueError:  #数値以外を入力した場合のエラー処理\n",
    "    print(\"エラー: 整数を入力してください\")"
   ]
  },
  {
   "cell_type": "code",
   "execution_count": 56,
   "id": "b402dce5",
   "metadata": {},
   "outputs": [
    {
     "name": "stdout",
     "output_type": "stream",
     "text": [
      "エラー: 整数を入力してください\n",
      "プログラム終了\n"
     ]
    }
   ],
   "source": [
    "try:     \n",
    "    num = int(input(\"整数を入力してください:\"))\n",
    "    result = 100/num\n",
    "except ZeroDivisionError:  \n",
    "    print(\"エラー: 0で割ることはできません\")\n",
    "except ValueError:  \n",
    "    print(\"エラー: 整数を入力してください\")\n",
    "else:\n",
    "    print(f\"計算結果: {result}\")\n",
    "finally:\n",
    "    print(\"プログラム終了\")"
   ]
  },
  {
   "cell_type": "code",
   "execution_count": null,
   "id": "08a76682",
   "metadata": {},
   "outputs": [],
   "source": [
    "x = 10   #数値型\n",
    "numbers = [1,2,3,4,5]   #リスト型"
   ]
  },
  {
   "cell_type": "code",
   "execution_count": 59,
   "id": "784792ef",
   "metadata": {},
   "outputs": [
    {
     "name": "stdout",
     "output_type": "stream",
     "text": [
      "a\n",
      "z\n"
     ]
    },
    {
     "ename": "IndexError",
     "evalue": "string index out of range",
     "output_type": "error",
     "traceback": [
      "\u001b[31m---------------------------------------------------------------------------\u001b[39m",
      "\u001b[31mIndexError\u001b[39m                                Traceback (most recent call last)",
      "\u001b[36mCell\u001b[39m\u001b[36m \u001b[39m\u001b[32mIn[59]\u001b[39m\u001b[32m, line 4\u001b[39m\n\u001b[32m      2\u001b[39m \u001b[38;5;28mprint\u001b[39m(s[\u001b[32m0\u001b[39m])\n\u001b[32m      3\u001b[39m \u001b[38;5;28mprint\u001b[39m(s[-\u001b[32m1\u001b[39m])\n\u001b[32m----> \u001b[39m\u001b[32m4\u001b[39m \u001b[38;5;28mprint\u001b[39m(\u001b[43ms\u001b[49m\u001b[43m[\u001b[49m\u001b[32;43m30\u001b[39;49m\u001b[43m]\u001b[49m)\n",
      "\u001b[31mIndexError\u001b[39m: string index out of range"
     ]
    }
   ],
   "source": [
    "s = \"abcdefghijklmnopqrstuvwxyz\"\n",
    "print(s[0])\n",
    "print(s[-1])\n",
    "print(s[30])"
   ]
  },
  {
   "cell_type": "code",
   "execution_count": 63,
   "id": "7f196d70",
   "metadata": {},
   "outputs": [
    {
     "name": "stdout",
     "output_type": "stream",
     "text": [
      "abcdefg\n",
      "vwxyz\n",
      "acegikmoqsuwy\n",
      "zyxwvutsrqponmlkjihgfedcba\n"
     ]
    }
   ],
   "source": [
    "print(s[0:7])    #s[開始位置:終了位置:増分]\n",
    "print(s[-5:])    #開始位置，終了位置は省略可能\n",
    "print(s[::2])\n",
    "print(s[::-1])   #増分を負にすると逆順に取得"
   ]
  },
  {
   "cell_type": "code",
   "execution_count": 66,
   "id": "763bbbda",
   "metadata": {},
   "outputs": [
    {
     "name": "stdout",
     "output_type": "stream",
     "text": [
      "T\n",
      "E\n",
      "C\n",
      "H\n",
      "A\n",
      "C\n",
      "A\n",
      "D\n",
      "E\n",
      "M\n",
      "Y\n",
      "11\n",
      "長い文字列です\n"
     ]
    }
   ],
   "source": [
    "s = \"TechAcademy\"\n",
    "for char in s:\n",
    "    print(char.upper())\n",
    "print(len(s))\n",
    "if len(s)>10:\n",
    "    print(\"長い文字列です\")"
   ]
  },
  {
   "cell_type": "code",
   "execution_count": null,
   "id": "cfda83a0",
   "metadata": {},
   "outputs": [
    {
     "name": "stdout",
     "output_type": "stream",
     "text": [
      "「にんてんどううどんてんに」は回文です\n"
     ]
    }
   ],
   "source": [
    "s = \"にんてんどううどんてんに\"\n",
    "if s == s[::-1]:\n",
    "    print(f\"「{s}」は回文です\")         #変数の値を文字列に挿入する場合にfが必要？\n",
    "else:\n",
    "    print(f\"「{s}」は回文ではありません\")"
   ]
  },
  {
   "cell_type": "code",
   "execution_count": 68,
   "id": "c2f1001c",
   "metadata": {},
   "outputs": [
    {
     "name": "stdout",
     "output_type": "stream",
     "text": [
      "[1, 2, 3, 4, 5] ['apple', 'banana', 'cherry'] [1, 'apple', 3.14, True] []\n"
     ]
    }
   ],
   "source": [
    "numbers = [1,2,3,4,5]\n",
    "fruits = [\"apple\",\"banana\",\"cherry\"]\n",
    "mixed = [1,\"apple\",3.14,True]\n",
    "empty_list = []\n",
    "print(numbers,fruits,mixed,empty_list)"
   ]
  },
  {
   "cell_type": "code",
   "execution_count": 69,
   "id": "a886c89c",
   "metadata": {},
   "outputs": [
    {
     "name": "stdout",
     "output_type": "stream",
     "text": [
      "['h', 'e', 'l', 'l', 'o'] [1, 2, 3] [0, 1, 2, 3, 4]\n"
     ]
    }
   ],
   "source": [
    "string_to_list = list(\"hello\")\n",
    "tuple_to_list = list((1,2,3))\n",
    "range_to_list = list(range(5))\n",
    "print(string_to_list,tuple_to_list,range_to_list)"
   ]
  },
  {
   "cell_type": "code",
   "execution_count": 71,
   "id": "6fab908e",
   "metadata": {},
   "outputs": [
    {
     "name": "stdout",
     "output_type": "stream",
     "text": [
      "[None, None, None, None, None] [0, 0, 0, 0, 0, 0, 0, 0, 0, 0]\n"
     ]
    }
   ],
   "source": [
    "none_list = [None]*5\n",
    "zeros = [0]*10\n",
    "print(none_list,zeros)"
   ]
  },
  {
   "cell_type": "code",
   "execution_count": 72,
   "id": "525fe7a1",
   "metadata": {},
   "outputs": [
    {
     "name": "stdout",
     "output_type": "stream",
     "text": [
      "[1, 2, 3] [1, 2, 3] [1, 2, 3]\n"
     ]
    }
   ],
   "source": [
    "original = [1,2,3]\n",
    "copy1 = original[:]\n",
    "copy2 = list(original)\n",
    "copy3 = original.copy()\n",
    "print(copy1,copy2,copy3)"
   ]
  },
  {
   "cell_type": "code",
   "execution_count": 73,
   "id": "49ddccda",
   "metadata": {},
   "outputs": [
    {
     "name": "stdout",
     "output_type": "stream",
     "text": [
      "apple cherry\n",
      "['apple', 'orange', 'cherry']\n"
     ]
    }
   ],
   "source": [
    "fruits = [\"apple\",\"banana\",\"cherry\"]\n",
    "print(fruits[0],fruits[-1])\n",
    "fruits[1] = \"orange\"\n",
    "print(fruits)"
   ]
  },
  {
   "cell_type": "code",
   "execution_count": 74,
   "id": "2d561b6e",
   "metadata": {},
   "outputs": [
    {
     "name": "stdout",
     "output_type": "stream",
     "text": [
      "[1, 2] [0, 1, 2] [2, 3, 4, 5] [5, 4, 3, 2, 1, 0]\n"
     ]
    }
   ],
   "source": [
    "numbers = [0,1,2,3,4,5]\n",
    "print(numbers[1:3],numbers[:3],numbers[2:],numbers[::-1])"
   ]
  },
  {
   "cell_type": "code",
   "execution_count": 76,
   "id": "a166b2f0",
   "metadata": {},
   "outputs": [
    {
     "name": "stdout",
     "output_type": "stream",
     "text": [
      "['apple', 'grape', 'orange', 'cherry', 'mango', 'kiwi', 'pear']\n"
     ]
    }
   ],
   "source": [
    "fruits.append(\"mango\")\n",
    "fruits.insert(1,\"grape\")\n",
    "fruits.extend([\"kiwi\",\"pear\"])\n",
    "print(fruits)"
   ]
  },
  {
   "cell_type": "code",
   "execution_count": 77,
   "id": "d259bea7",
   "metadata": {},
   "outputs": [
    {
     "name": "stdout",
     "output_type": "stream",
     "text": [
      "['apple', 'orange', 'cherry', 'mango', 'kiwi', 'pear']\n"
     ]
    }
   ],
   "source": [
    "fruits.pop(1)\n",
    "print(fruits)"
   ]
  },
  {
   "cell_type": "code",
   "execution_count": 78,
   "id": "714e8ad6",
   "metadata": {},
   "outputs": [
    {
     "name": "stdout",
     "output_type": "stream",
     "text": [
      "['apple', 'orange', 'cherry', 'mango', 'pear']\n"
     ]
    }
   ],
   "source": [
    "fruits.remove(\"kiwi\")\n",
    "print(fruits)"
   ]
  },
  {
   "cell_type": "code",
   "execution_count": 79,
   "id": "ddce1d07",
   "metadata": {},
   "outputs": [
    {
     "name": "stdout",
     "output_type": "stream",
     "text": [
      "['orange', 'cherry', 'mango', 'pear']\n"
     ]
    }
   ],
   "source": [
    "del fruits[0]\n",
    "print(fruits)"
   ]
  },
  {
   "cell_type": "code",
   "execution_count": 81,
   "id": "7b8973a3",
   "metadata": {},
   "outputs": [
    {
     "name": "stdout",
     "output_type": "stream",
     "text": [
      "[]\n"
     ]
    }
   ],
   "source": [
    "fruits.clear()\n",
    "print(fruits)"
   ]
  },
  {
   "cell_type": "code",
   "execution_count": 82,
   "id": "c2b1116c",
   "metadata": {},
   "outputs": [
    {
     "name": "stdout",
     "output_type": "stream",
     "text": [
      "[1, 2, 3, 4, 5, 6] [1, 2, 3, 4, 5, 6]\n"
     ]
    }
   ],
   "source": [
    "list1 = [1,2,3]\n",
    "list2 = [4,5,6]\n",
    "combined = list1 + list2\n",
    "list1.extend(list2)\n",
    "print(combined,list1)"
   ]
  },
  {
   "cell_type": "code",
   "execution_count": 83,
   "id": "8a18e2d9",
   "metadata": {},
   "outputs": [
    {
     "name": "stdout",
     "output_type": "stream",
     "text": [
      "2は存在するか: True\n",
      "2の出現回数: 3\n",
      "2の最初の位置: 1\n"
     ]
    }
   ],
   "source": [
    "numbers = [1,2,3,2,4,2]\n",
    "print(\"2は存在するか:\",2 in numbers)\n",
    "print(\"2の出現回数:\",numbers.count(2))\n",
    "print(\"2の最初の位置:\",numbers.index(2))"
   ]
  },
  {
   "cell_type": "code",
   "execution_count": 84,
   "id": "e43888d1",
   "metadata": {},
   "outputs": [
    {
     "name": "stdout",
     "output_type": "stream",
     "text": [
      "[1, 1, 2, 3, 4, 5, 9] [9, 5, 4, 3, 2, 1, 1]\n"
     ]
    }
   ],
   "source": [
    "numbers = [3,1,4,1,5,9,2]\n",
    "numbers.sort()\n",
    "sorted_numbers = sorted(numbers,reverse=True)\n",
    "print(numbers,sorted_numbers)"
   ]
  },
  {
   "cell_type": "code",
   "execution_count": 85,
   "id": "4cdecae4",
   "metadata": {},
   "outputs": [
    {
     "name": "stdout",
     "output_type": "stream",
     "text": [
      "[1, 4, 9, 16, 25]\n"
     ]
    }
   ],
   "source": [
    "squares = [x**2 for x in range(1,6)]\n",
    "print(squares)"
   ]
  },
  {
   "cell_type": "code",
   "execution_count": 86,
   "id": "01bb7ad6",
   "metadata": {},
   "outputs": [
    {
     "name": "stdout",
     "output_type": "stream",
     "text": [
      "[2, 4, 6, 8, 10]\n"
     ]
    }
   ],
   "source": [
    "even_numbers = [x for x in range(1,11) if x % 2 ==0]\n",
    "print(even_numbers)"
   ]
  },
  {
   "cell_type": "code",
   "execution_count": 87,
   "id": "e38541f4",
   "metadata": {},
   "outputs": [
    {
     "name": "stdout",
     "output_type": "stream",
     "text": [
      "1 8\n"
     ]
    }
   ],
   "source": [
    "matrix = [[1,2,3],[4,5,6],[7,8,9]]\n",
    "print(matrix[0][0],matrix[2][1])"
   ]
  },
  {
   "cell_type": "code",
   "execution_count": 88,
   "id": "bcb4c394",
   "metadata": {},
   "outputs": [
    {
     "name": "stdout",
     "output_type": "stream",
     "text": [
      "123\n",
      "456\n",
      "789\n"
     ]
    }
   ],
   "source": [
    "for row in matrix:\n",
    "    for element in row:\n",
    "        print(element,end=\"\")\n",
    "    print()"
   ]
  },
  {
   "cell_type": "code",
   "execution_count": 89,
   "id": "1a6206f0",
   "metadata": {},
   "outputs": [
    {
     "name": "stdout",
     "output_type": "stream",
     "text": [
      "[[1, 2, 3], [2, 4, 6], [3, 6, 9]]\n"
     ]
    }
   ],
   "source": [
    "matrix = [[i*j for j in range(1,4)] for i in range(1,4)]\n",
    "print(matrix)"
   ]
  },
  {
   "cell_type": "code",
   "execution_count": 133,
   "id": "9b69ab75",
   "metadata": {},
   "outputs": [
    {
     "name": "stdout",
     "output_type": "stream",
     "text": [
      "(1, 2, 3, 4, 5) ('apple', 'banana', 'cherry') (1, 'apple', 3.14, True) () (1,)\n"
     ]
    }
   ],
   "source": [
    "numbers = (1,2,3,4,5)\n",
    "fruits = (\"apple\",\"banana\",\"cherry\")\n",
    "mixed = (1,\"apple\",3.14,True)\n",
    "empty_tuple = ()\n",
    "one_element_tuple = (1,)   #要素が1つの時は,が必要\n",
    "print(numbers,fruits,mixed,empty_tuple,one_element_tuple)"
   ]
  },
  {
   "cell_type": "code",
   "execution_count": 91,
   "id": "069302df",
   "metadata": {},
   "outputs": [
    {
     "name": "stdout",
     "output_type": "stream",
     "text": [
      "('h', 'e', 'l', 'l', 'o') (1, 2, 3) (0, 1, 2, 3, 4)\n"
     ]
    }
   ],
   "source": [
    "string_to_tuple = tuple(\"hello\")\n",
    "list_to_tuple = tuple([1,2,3])\n",
    "range_to_tuple = tuple(range(5))\n",
    "print(string_to_tuple,list_to_tuple,range_to_tuple)"
   ]
  },
  {
   "cell_type": "code",
   "execution_count": 92,
   "id": "7f58bccf",
   "metadata": {},
   "outputs": [
    {
     "name": "stdout",
     "output_type": "stream",
     "text": [
      "(None, None, None, None, None) (0, 0, 0, 0, 0, 0, 0, 0, 0, 0)\n"
     ]
    }
   ],
   "source": [
    "none_tuple = (None,)*5\n",
    "zeros = (0,)*10\n",
    "print(none_tuple,zeros)"
   ]
  },
  {
   "cell_type": "code",
   "execution_count": 93,
   "id": "e6a26192",
   "metadata": {},
   "outputs": [
    {
     "name": "stdout",
     "output_type": "stream",
     "text": [
      "(1, 2, 3) (4, 5, 6)\n"
     ]
    }
   ],
   "source": [
    "original_list = [1,2,3]\n",
    "copied_tuple = tuple(original_list)\n",
    "original_tuple = (4,5,6)\n",
    "copied_tuple2 = tuple(original_tuple)\n",
    "print(copied_tuple,copied_tuple2)"
   ]
  },
  {
   "cell_type": "code",
   "execution_count": 94,
   "id": "497a0f53",
   "metadata": {},
   "outputs": [
    {
     "name": "stdout",
     "output_type": "stream",
     "text": [
      "apple\n",
      "cherry\n"
     ]
    }
   ],
   "source": [
    "fruits = (\"apple\",\"banana\",\"cherry\")\n",
    "print(fruits[0])\n",
    "print(fruits[-1])"
   ]
  },
  {
   "cell_type": "code",
   "execution_count": 95,
   "id": "851d0fc3",
   "metadata": {},
   "outputs": [
    {
     "name": "stdout",
     "output_type": "stream",
     "text": [
      "(1, 2)\n",
      "(5, 4, 3, 2, 1, 0)\n"
     ]
    }
   ],
   "source": [
    "numbers = (0,1,2,3,4,5)\n",
    "print(numbers[1:3])\n",
    "print(numbers[::-1])"
   ]
  },
  {
   "cell_type": "code",
   "execution_count": 96,
   "id": "f209c723",
   "metadata": {},
   "outputs": [
    {
     "name": "stdout",
     "output_type": "stream",
     "text": [
      "True\n",
      "2\n"
     ]
    }
   ],
   "source": [
    "fruits = (\"apple\",\"banana\",\"cherry\")\n",
    "print(\"banana\"in fruits)\n",
    "print(fruits.index(\"cherry\"))"
   ]
  },
  {
   "cell_type": "code",
   "execution_count": 98,
   "id": "614d1fc7",
   "metadata": {},
   "outputs": [
    {
     "name": "stdout",
     "output_type": "stream",
     "text": [
      "3\n"
     ]
    }
   ],
   "source": [
    "numbers = (1,2,3,2,4,2,5)\n",
    "print(numbers.count(2))"
   ]
  },
  {
   "cell_type": "code",
   "execution_count": 100,
   "id": "0c0d5fdb",
   "metadata": {},
   "outputs": [
    {
     "name": "stdout",
     "output_type": "stream",
     "text": [
      "(1, 2, 3, 4, 5, 6)\n"
     ]
    }
   ],
   "source": [
    "tuple1 = (1,2,3)\n",
    "tuple2 = (4,5,6)\n",
    "combined_tuple = tuple1 + tuple2\n",
    "print(combined_tuple)"
   ]
  },
  {
   "cell_type": "code",
   "execution_count": 101,
   "id": "7425e694",
   "metadata": {},
   "outputs": [
    {
     "name": "stdout",
     "output_type": "stream",
     "text": [
      "{'one': 1, 'two': 2, 'three': 3} {'name': 'Alice', 'age': 25, 'is_student': False} {}\n"
     ]
    }
   ],
   "source": [
    "numbers = {\"one\":1,\"two\":2,\"three\":3}\n",
    "person = {\"name\":\"Alice\",\"age\":25,\"is_student\":False}\n",
    "empty_dict = {}\n",
    "print(numbers,person,empty_dict)"
   ]
  },
  {
   "cell_type": "code",
   "execution_count": 102,
   "id": "fa32c4a4",
   "metadata": {},
   "outputs": [
    {
     "name": "stdout",
     "output_type": "stream",
     "text": [
      "{'name': 'Bob', 'age': 30, 'is_student': True} {'apple': 100, 'banana': 200}\n"
     ]
    }
   ],
   "source": [
    "person = dict(name=\"Bob\",age=30,is_student=True)\n",
    "pairs = [(\"apple\",100),(\"banana\",200)]\n",
    "fruit_prices = dict(pairs)\n",
    "print(person,fruit_prices)"
   ]
  },
  {
   "cell_type": "code",
   "execution_count": 103,
   "id": "e713b301",
   "metadata": {},
   "outputs": [
    {
     "name": "stdout",
     "output_type": "stream",
     "text": [
      "{'key1': 0, 'key2': 0, 'key3': 0}\n"
     ]
    }
   ],
   "source": [
    "keys = [\"key1\",\"key2\",\"key3\"]\n",
    "default_dict = dict.fromkeys(keys,0)\n",
    "print(default_dict)"
   ]
  },
  {
   "cell_type": "code",
   "execution_count": 105,
   "id": "7b7ad51d",
   "metadata": {},
   "outputs": [
    {
     "name": "stdout",
     "output_type": "stream",
     "text": [
      "100\n",
      "{'apple': 100, 'banana': 250, 'cherry': 300}\n"
     ]
    }
   ],
   "source": [
    "fruits_prices = {\"apple\":100,\"banana\":200,\"cherry\":300}\n",
    "print(fruit_prices[\"apple\"])\n",
    "fruits_prices[\"banana\"]=250\n",
    "print(fruits_prices)"
   ]
  },
  {
   "cell_type": "code",
   "execution_count": 106,
   "id": "2e0a2f5c",
   "metadata": {},
   "outputs": [
    {
     "name": "stdout",
     "output_type": "stream",
     "text": [
      "{'aplle': 100, 'banana': 180, 'grape': 400}\n"
     ]
    }
   ],
   "source": [
    "fruits_prices = {\"aplle\":100,\"banana\":200}\n",
    "fruits_prices[\"grape\"] = 400\n",
    "fruits_prices[\"banana\"] = 180\n",
    "print(fruits_prices)"
   ]
  },
  {
   "cell_type": "code",
   "execution_count": 108,
   "id": "67c86c8e",
   "metadata": {},
   "outputs": [
    {
     "name": "stdout",
     "output_type": "stream",
     "text": [
      "{} 200\n"
     ]
    }
   ],
   "source": [
    "fruit_prices = {\"apple\":100,\"banana\":200,\"cherry\":300}\n",
    "del_price = fruit_prices.pop(\"banana\")\n",
    "del fruit_prices[\"cherry\"]\n",
    "fruit_prices.clear()\n",
    "print(fruit_prices,del_price)"
   ]
  },
  {
   "cell_type": "code",
   "execution_count": 109,
   "id": "325e4538",
   "metadata": {},
   "outputs": [
    {
     "name": "stdout",
     "output_type": "stream",
     "text": [
      "dict_keys(['apple', 'banana', 'cherry']) dict_values([100, 200, 300]) dict_items([('apple', 100), ('banana', 200), ('cherry', 300)])\n"
     ]
    }
   ],
   "source": [
    "fruit_prices = {\"apple\":100,\"banana\":200,\"cherry\":300}\n",
    "print(fruit_prices.keys(),fruit_prices.values(),fruit_prices.items())"
   ]
  },
  {
   "cell_type": "code",
   "execution_count": 110,
   "id": "ed509e6d",
   "metadata": {},
   "outputs": [
    {
     "name": "stdout",
     "output_type": "stream",
     "text": [
      "True\n",
      "False\n"
     ]
    }
   ],
   "source": [
    "fruit_prices = {\"apple\":100,\"banana\":200}\n",
    "print(\"apple\" in fruit_prices)\n",
    "print(\"grape\" in fruit_prices)"
   ]
  },
  {
   "cell_type": "code",
   "execution_count": 111,
   "id": "881449eb",
   "metadata": {},
   "outputs": [
    {
     "name": "stdout",
     "output_type": "stream",
     "text": [
      "Hello,Python\n",
      "123\n",
      "testnext line\n"
     ]
    }
   ],
   "source": [
    "print(\"Hello,Python\")\n",
    "print(123)\n",
    "print(\"test\",end=\"\")\n",
    "print(\"next line\")"
   ]
  },
  {
   "cell_type": "code",
   "execution_count": 113,
   "id": "7c2a566f",
   "metadata": {},
   "outputs": [
    {
     "name": "stdout",
     "output_type": "stream",
     "text": [
      "6\n",
      "4\n"
     ]
    }
   ],
   "source": [
    "print(len(\"Python\"))\n",
    "print(len([1,2,3,4]))"
   ]
  },
  {
   "cell_type": "code",
   "execution_count": 114,
   "id": "31db65a8",
   "metadata": {},
   "outputs": [
    {
     "name": "stdout",
     "output_type": "stream",
     "text": [
      "<class 'int'>\n",
      "<class 'str'>\n",
      "<class 'list'>\n"
     ]
    }
   ],
   "source": [
    "print(type(123))\n",
    "print(type(\"Python\"))\n",
    "print(type([1,2,3]))"
   ]
  },
  {
   "cell_type": "code",
   "execution_count": 115,
   "id": "a8b3cdac",
   "metadata": {},
   "outputs": [
    {
     "name": "stdout",
     "output_type": "stream",
     "text": [
      "20\n",
      "1\n"
     ]
    }
   ],
   "source": [
    "print(max(5,10,20))\n",
    "print(min([1,2,3,4]))"
   ]
  },
  {
   "cell_type": "code",
   "execution_count": 116,
   "id": "65d9c1a7",
   "metadata": {},
   "outputs": [
    {
     "name": "stdout",
     "output_type": "stream",
     "text": [
      "10\n",
      "60\n"
     ]
    }
   ],
   "source": [
    "print(sum([1,2,3,4]))\n",
    "print(sum((10,20,30)))"
   ]
  },
  {
   "cell_type": "code",
   "execution_count": 117,
   "id": "ef742dca",
   "metadata": {},
   "outputs": [
    {
     "name": "stdout",
     "output_type": "stream",
     "text": [
      "0\n",
      "1\n",
      "2\n",
      "3\n",
      "4\n",
      "[1, 3, 5, 7, 9]\n"
     ]
    }
   ],
   "source": [
    "for i in range(5):\n",
    "    print(i)\n",
    "print(list(range(1,10,2)))"
   ]
  },
  {
   "cell_type": "code",
   "execution_count": 121,
   "id": "c563b75b",
   "metadata": {},
   "outputs": [
    {
     "name": "stdout",
     "output_type": "stream",
     "text": [
      "「にんてんどううどんてんに」は回文です\n"
     ]
    }
   ],
   "source": [
    "def is_palindrome(s):\n",
    "    if s == s[::-1]:\n",
    "        print(f\"「{s}」は回文です\")\n",
    "    else:\n",
    "        print(f\"「{s}」は回文ではありません\")\n",
    "is_palindrome(\"にんてんどううどんてんに\")"
   ]
  },
  {
   "cell_type": "code",
   "execution_count": 122,
   "id": "227cd1bb",
   "metadata": {},
   "outputs": [
    {
     "name": "stdout",
     "output_type": "stream",
     "text": [
      "こんにちは，太郎さん\n"
     ]
    }
   ],
   "source": [
    "def greet(name):\n",
    "    print(f\"こんにちは，{name}さん\")\n",
    "greet(\"太郎\")"
   ]
  },
  {
   "cell_type": "code",
   "execution_count": 123,
   "id": "93151668",
   "metadata": {},
   "outputs": [
    {
     "name": "stdout",
     "output_type": "stream",
     "text": [
      "こんにちは，花子さん．年齢は25歳ですね．\n"
     ]
    }
   ],
   "source": [
    "def introduce(name,age):\n",
    "    print(f\"こんにちは，{name}さん．年齢は{age}歳ですね．\")\n",
    "introduce(\"花子\",25)"
   ]
  },
  {
   "cell_type": "code",
   "execution_count": 137,
   "id": "a54f9f5e",
   "metadata": {},
   "outputs": [
    {
     "name": "stdout",
     "output_type": "stream",
     "text": [
      "こんにちは，太郎さん．年齢は18歳ですね．\n"
     ]
    }
   ],
   "source": [
    "def introduce(name,age=18):\n",
    "    print(f\"こんにちは，{name}さん．年齢は{age}歳ですね．\")\n",
    "introduce(\"太郎\")"
   ]
  },
  {
   "cell_type": "code",
   "execution_count": 138,
   "id": "aee43b62",
   "metadata": {},
   "outputs": [
    {
     "name": "stdout",
     "output_type": "stream",
     "text": [
      "合計: 45\n"
     ]
    }
   ],
   "source": [
    "def add(*args):\n",
    "    print(\"合計:\",sum(args))\n",
    "add(1,2,3,4,5,6,7,8,9)"
   ]
  },
  {
   "cell_type": "code",
   "execution_count": 127,
   "id": "d3944412",
   "metadata": {},
   "outputs": [
    {
     "name": "stdout",
     "output_type": "stream",
     "text": [
      "8\n"
     ]
    }
   ],
   "source": [
    "def add(a,b):\n",
    "    return a+b\n",
    "result = add(3,5)\n",
    "print(result)"
   ]
  },
  {
   "cell_type": "code",
   "execution_count": 129,
   "id": "9e2b0ae8",
   "metadata": {},
   "outputs": [
    {
     "name": "stdout",
     "output_type": "stream",
     "text": [
      "和: 7\n",
      "積: 12\n"
     ]
    }
   ],
   "source": [
    "def calculate(a,b):\n",
    "    return a+b,a*b\n",
    "sum_result,product_result = calculate(3,4)\n",
    "print(\"和:\",sum_result)\n",
    "print(\"積:\",product_result)"
   ]
  },
  {
   "cell_type": "code",
   "execution_count": 1,
   "id": "bf998ce2",
   "metadata": {},
   "outputs": [
    {
     "name": "stdout",
     "output_type": "stream",
     "text": [
      "4.0\n"
     ]
    }
   ],
   "source": [
    "import math\n",
    "print(math.sqrt(16))"
   ]
  },
  {
   "cell_type": "code",
   "execution_count": null,
   "id": "c08e12fe",
   "metadata": {},
   "outputs": [
    {
     "name": "stdout",
     "output_type": "stream",
     "text": [
      "現在の日時: 2025-04-09 08:45:14.544336\n"
     ]
    }
   ],
   "source": [
    "import datetime as dt\n",
    "now = dt.datetime.now()\n",
    "print(\"現在の日時:\",now)"
   ]
  },
  {
   "cell_type": "code",
   "execution_count": 2,
   "id": "fe9a52f0",
   "metadata": {},
   "outputs": [
    {
     "name": "stdout",
     "output_type": "stream",
     "text": [
      "4.0\n",
      "3.141592653589793\n"
     ]
    }
   ],
   "source": [
    "from math import sqrt\n",
    "print(sqrt(16))\n",
    "from math import sqrt, pi \n",
    "print(pi)"
   ]
  },
  {
   "cell_type": "code",
   "execution_count": 3,
   "id": "394613cc",
   "metadata": {},
   "outputs": [],
   "source": [
    "from math import *"
   ]
  },
  {
   "cell_type": "code",
   "execution_count": 4,
   "id": "9c936bb8",
   "metadata": {},
   "outputs": [
    {
     "name": "stdout",
     "output_type": "stream",
     "text": [
      "5.0\n",
      "2.718281828459045\n",
      "3.141592653589793\n"
     ]
    }
   ],
   "source": [
    "import math\n",
    "print(math.sqrt(25))\n",
    "print(math.exp(1))\n",
    "print(math.pi)"
   ]
  },
  {
   "cell_type": "code",
   "execution_count": null,
   "id": "9547b13c",
   "metadata": {},
   "outputs": [
    {
     "name": "stdout",
     "output_type": "stream",
     "text": [
      "2025-04-09 09:05:09.397410\n",
      "1995-05-17 00:00:00\n",
      "365\n"
     ]
    }
   ],
   "source": [
    "import datetime\n",
    "now = datetime.datetime.now()\n",
    "print(now)\n",
    "birthday = datetime.datetime(1995,5,17)\n",
    "print(birthday)\n",
    "date1 = datetime.datetime(2023,1,1)\n",
    "date2 = datetime.datetime(2024,1,1)\n",
    "print((date2-date1).days)   #日数差"
   ]
  },
  {
   "cell_type": "code",
   "execution_count": null,
   "id": "e3774916",
   "metadata": {},
   "outputs": [
    {
     "name": "stdout",
     "output_type": "stream",
     "text": [
      "10\n",
      "[3, 2, 4, 1, 5]\n",
      "3\n"
     ]
    }
   ],
   "source": [
    "import random\n",
    "print(random.randint(1,10))   #1~10のランダムな整数\n",
    "my_list = [1,2,3,4,5]\n",
    "random.shuffle(my_list)   #リストをランダムに並び替え\n",
    "print(my_list)\n",
    "print(random.choice(my_list))   #ランダムな要素1つ"
   ]
  },
  {
   "cell_type": "code",
   "execution_count": 7,
   "id": "5f9ef055",
   "metadata": {},
   "outputs": [
    {
     "name": "stdout",
     "output_type": "stream",
     "text": [
      "<built-in function getcwd>\n",
      "False\n"
     ]
    }
   ],
   "source": [
    "import os\n",
    "print(os.getcwd)\n",
    "os.mkdir(\"new_folder\")\n",
    "print(os.path.exists(\"example.txt\"))"
   ]
  },
  {
   "cell_type": "code",
   "execution_count": 8,
   "id": "44cae0eb",
   "metadata": {},
   "outputs": [
    {
     "name": "stdout",
     "output_type": "stream",
     "text": [
      "<!DOCTYPE html><html  lang=\"ja\" data-theme=\"techacademy\" data-capo=\"\"><head><meta charset=\"utf-8\">\n",
      "<meta name=\"viewport\" content=\"width=device-width, initial-scale=1\">\n",
      "<title>プログラミングスクール | 受講者数No.1のテックアカデミー</title>\n",
      "<link rel=\"preconnect\" href=\"https://fonts.googleapis.com\">\n",
      "<link rel=\"preconnect\" href=\"https://fonts.gstatic.com\" crossorigin>\n",
      "<script src=\"https://www.googletagmanager.com/gtag/js?id=AW-1006744060\" async data-hid=\"92ebc66\"></script>\n",
      "<script src=\"//static.criteo.net/js/ld/ld.js\" asy\n"
     ]
    }
   ],
   "source": [
    "import urllib.request\n",
    "url = \"https://techacademy.jp\"\n",
    "response = urllib.request.urlopen(url)\n",
    "html = response.read().decode(\"utf-8\")\n",
    "print(html[:500])"
   ]
  },
  {
   "cell_type": "code",
   "execution_count": 20,
   "id": "40f94242",
   "metadata": {},
   "outputs": [
    {
     "name": "stdout",
     "output_type": "stream",
     "text": [
      "送料は無料です\n",
      "送料込税込価格は2001円です\n"
     ]
    }
   ],
   "source": [
    "tax_excluded_price = int(input(\"税抜価格を入力してください:\"))\n",
    "tax_rate = 0.1\n",
    "tax_included_price = tax_excluded_price * (1 + tax_rate)\n",
    "if tax_included_price >= 2000:\n",
    "    shipping_cost = 0\n",
    "    print(\"送料は無料です\")\n",
    "else:\n",
    "    shipping_cost = 350\n",
    "    print(f\"送料は{shipping_cost}円です\")\n",
    "total_price = tax_included_price + shipping_cost\n",
    "print(f\"送料込税込価格は{total_price:.0f}円です\")\n",
    "\n"
   ]
  },
  {
   "cell_type": "code",
   "execution_count": null,
   "id": "014e8cc9",
   "metadata": {},
   "outputs": [],
   "source": []
  },
  {
   "cell_type": "code",
   "execution_count": null,
   "id": "bc46f427",
   "metadata": {},
   "outputs": [],
   "source": []
  }
 ],
 "metadata": {
  "kernelspec": {
   "display_name": ".venv",
   "language": "python",
   "name": "python3"
  },
  "language_info": {
   "codemirror_mode": {
    "name": "ipython",
    "version": 3
   },
   "file_extension": ".py",
   "mimetype": "text/x-python",
   "name": "python",
   "nbconvert_exporter": "python",
   "pygments_lexer": "ipython3",
   "version": "3.12.7"
  }
 },
 "nbformat": 4,
 "nbformat_minor": 5
}
